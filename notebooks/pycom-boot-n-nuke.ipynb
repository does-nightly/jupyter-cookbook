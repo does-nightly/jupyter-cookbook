{
 "cells": [
  {
   "cell_type": "code",
   "execution_count": 3,
   "metadata": {},
   "outputs": [
    {
     "name": "stdout",
     "output_type": "stream",
     "text": [
      "\u001b[34mConnecting to --port=/dev/ttyACM0 --baud=115200 \u001b[0m\n",
      "\u001b[34mReady.\n",
      "\u001b[0m"
     ]
    }
   ],
   "source": [
    "%serialconnect --port=/dev/ttyACM0"
   ]
  },
  {
   "cell_type": "code",
   "execution_count": 63,
   "metadata": {},
   "outputs": [
    {
     "name": "stdout",
     "output_type": "stream",
     "text": [
      "Found serial ports: /dev/ttyACM1, /dev/ttyS0 \n",
      "\u001b[34mConnecting to --port=/dev/ttyACM1 --baud=115200 \u001b[0m\n",
      "\u001b[34mReady.\n",
      "\u001b[0m"
     ]
    }
   ],
   "source": [
    "# Does not work, can't figure out why\n",
    "%serialconnect\n",
    "import os\n",
    "os.mkfs('/flash')"
   ]
  },
  {
   "cell_type": "code",
   "execution_count": 61,
   "metadata": {},
   "outputs": [
    {
     "name": "stdout",
     "output_type": "stream",
     "text": [
      "Found serial ports: /dev/ttyACM1, /dev/ttyS0 \n",
      "\u001b[34mConnecting to --port=/dev/ttyACM1 --baud=115200 \u001b[0m\n",
      "\u001b[34mReady.\n",
      "\u001b[0mBefore: []\n",
      "After: []\n",
      "We are done nuking. Goodbye..\n"
     ]
    }
   ],
   "source": [
    "# Nukes contents of the device and soft resets it to get it into a workable state\n",
    "%serialconnect\n",
    "import os\n",
    "print('Before:',os.listdir())\n",
    "\n",
    "filelist = [ f for f in os.listdir() ]\n",
    "for f in filelist:\n",
    "    os.remove(f)\n",
    "    \n",
    "print('After:',os.listdir())\n",
    "\n",
    "print(\"We are done nuking. Goodbye..\")\n",
    "\n",
    "import sys\n",
    "sys.exit()\n",
    "\n"
   ]
  },
  {
   "cell_type": "code",
   "execution_count": null,
   "metadata": {},
   "outputs": [],
   "source": []
  }
 ],
 "metadata": {
  "kernelspec": {
   "display_name": "MicroPython - USB",
   "language": "micropython",
   "name": "micropython"
  },
  "language_info": {
   "codemirror_mode": "python",
   "file_extension": ".py",
   "mimetype": "text/python",
   "name": "micropython"
  }
 },
 "nbformat": 4,
 "nbformat_minor": 2
}
